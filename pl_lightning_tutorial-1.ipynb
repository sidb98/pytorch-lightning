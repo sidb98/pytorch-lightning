{
 "cells": [
  {
   "cell_type": "code",
   "execution_count": 35,
   "metadata": {},
   "outputs": [],
   "source": [
    "import os\n",
    "import torch\n",
    "from torch import nn\n",
    "import torch.nn.functional as F\n",
    "from torchvision import transforms\n",
    "from torchvision.datasets import MNIST\n",
    "from torch.utils.data import DataLoader\n",
    "import lightning.pytorch as pl\n",
    "from lightning.pytorch.callbacks.early_stopping import EarlyStopping"
   ]
  },
  {
   "cell_type": "code",
   "execution_count": 2,
   "metadata": {},
   "outputs": [],
   "source": [
    "class Encoder(nn.Module):\n",
    "    def __init__(self):\n",
    "        super().__init__()\n",
    "        self.l1 = nn.Sequential(nn.Linear(28 * 28, 64), nn.ReLU(), nn.Linear(64, 3))\n",
    "\n",
    "    def forward(self, x):\n",
    "        return self.l1(x)\n",
    "\n",
    "\n",
    "class Decoder(nn.Module):\n",
    "    def __init__(self):\n",
    "        super().__init__()\n",
    "        self.l1 = nn.Sequential(nn.Linear(3, 64), nn.ReLU(), nn.Linear(64, 28 * 28))\n",
    "\n",
    "    def forward(self, x):\n",
    "        return self.l1(x)"
   ]
  },
  {
   "cell_type": "code",
   "execution_count": 38,
   "metadata": {},
   "outputs": [],
   "source": [
    "class LitAutoEncoder(pl.LightningModule):\n",
    "    def __init__(self,encoder,decoder):\n",
    "        super().__init__()\n",
    "        self.encoder = encoder\n",
    "        self.decoder = decoder\n",
    "\n",
    "    def training_step(self,batch, batch_idx):\n",
    "        x, y = batch\n",
    "        x = x.view(x.size(0), -1)\n",
    "        z = self.encoder(x)\n",
    "        x_hat = self.decoder(z)\n",
    "        loss = F.mse_loss(x_hat, x)\n",
    "        self.log('train_loss', loss, prog_bar=True)\n",
    "        return loss\n",
    "\n",
    "    def validation_step(self, batch, batch_idx):\n",
    "        x,y = batch\n",
    "        x = x.view(x.size(0), -1)\n",
    "        z = self.encoder(x)\n",
    "        x_hat = self.decoder(z)\n",
    "        loss = F.mse_loss(x_hat, x)\n",
    "        self.log('val_loss', loss, prog_bar=True)\n",
    "\n",
    "    def configure_optimizers(self):\n",
    "        optimizer = torch.optim.Adam(self.parameters(), lr=1e-3)\n",
    "        return optimizer\n",
    "    \n",
    "    def test_step(self, batch, batch_idx):\n",
    "        x,y = batch\n",
    "        x = x.view(x.size(0), -1)\n",
    "        z = self.encoder(x)\n",
    "        x_hat = self.decoder(z)\n",
    "        loss = F.mse_loss(x_hat, x)\n",
    "        self.log('test_loss', loss)\n",
    "        "
   ]
  },
  {
   "cell_type": "code",
   "execution_count": 39,
   "metadata": {},
   "outputs": [],
   "source": [
    "transform = transforms.ToTensor()\n",
    "train_set = MNIST(os.getcwd(), train=True, download=True, transform=transform)\n",
    "test_set = MNIST(os.getcwd(), train=False, download=True, transform=transform)\n",
    "\n",
    "train_set_size = int(len(train_set) * 0.8)\n",
    "val_set_size = len(train_set) - train_set_size\n",
    "\n",
    "\n",
    "seed = torch.Generator().manual_seed(42)\n",
    "train_set, val_set = torch.utils.data.random_split(train_set, [train_set_size, val_set_size], generator=seed)\n",
    "\n",
    "train_loader = DataLoader(train_set, batch_size=32)\n",
    "val_loader = DataLoader(val_set, batch_size=32)\n",
    "test_loader = DataLoader(test_set, batch_size=32)"
   ]
  },
  {
   "cell_type": "code",
   "execution_count": 52,
   "metadata": {},
   "outputs": [
    {
     "name": "stderr",
     "output_type": "stream",
     "text": [
      "GPU available: True (cuda), used: True\n",
      "TPU available: False, using: 0 TPU cores\n",
      "IPU available: False, using: 0 IPUs\n",
      "HPU available: False, using: 0 HPUs\n",
      "You are using a CUDA device ('NVIDIA GeForce RTX 3060 Laptop GPU') that has Tensor Cores. To properly utilize them, you should set `torch.set_float32_matmul_precision('medium' | 'high')` which will trade-off precision for performance. For more details, read https://pytorch.org/docs/stable/generated/torch.set_float32_matmul_precision.html#torch.set_float32_matmul_precision\n",
      "LOCAL_RANK: 0 - CUDA_VISIBLE_DEVICES: [0]\n",
      "\n",
      "  | Name    | Type    | Params\n",
      "------------------------------------\n",
      "0 | encoder | Encoder | 50.4 K\n",
      "1 | decoder | Decoder | 51.2 K\n",
      "------------------------------------\n",
      "101 K     Trainable params\n",
      "0         Non-trainable params\n",
      "101 K     Total params\n",
      "0.407     Total estimated model params size (MB)\n"
     ]
    },
    {
     "name": "stdout",
     "output_type": "stream",
     "text": [
      "                                                                            "
     ]
    },
    {
     "name": "stderr",
     "output_type": "stream",
     "text": [
      "/home/sid98/miniconda3/envs/pytorch-light/lib/python3.11/site-packages/lightning/pytorch/trainer/connectors/data_connector.py:432: PossibleUserWarning: The dataloader, val_dataloader, does not have many workers which may be a bottleneck. Consider increasing the value of the `num_workers` argument` (try 20 which is the number of cpus on this machine) in the `DataLoader` init to improve performance.\n",
      "  rank_zero_warn(\n",
      "/home/sid98/miniconda3/envs/pytorch-light/lib/python3.11/site-packages/lightning/pytorch/trainer/connectors/data_connector.py:432: PossibleUserWarning: The dataloader, train_dataloader, does not have many workers which may be a bottleneck. Consider increasing the value of the `num_workers` argument` (try 20 which is the number of cpus on this machine) in the `DataLoader` init to improve performance.\n",
      "  rank_zero_warn(\n"
     ]
    },
    {
     "name": "stdout",
     "output_type": "stream",
     "text": [
      "Epoch 3: 100%|██████████| 1500/1500 [00:12<00:00, 116.24it/s, v_num=19, train_loss=0.0376, val_loss=0.0401]"
     ]
    },
    {
     "name": "stderr",
     "output_type": "stream",
     "text": [
      "`Trainer.fit` stopped: `max_epochs=4` reached.\n"
     ]
    },
    {
     "name": "stdout",
     "output_type": "stream",
     "text": [
      "Epoch 3: 100%|██████████| 1500/1500 [00:12<00:00, 115.71it/s, v_num=19, train_loss=0.0376, val_loss=0.0401]\n"
     ]
    },
    {
     "name": "stderr",
     "output_type": "stream",
     "text": [
      "FIT Profiler Report\n",
      "\n",
      "--------------------------------------------------------------------------------------------------------------------------------------------------------------------------------------------------------------------------------------------------------------------------\n",
      "|  Action                                                                                                                                                         \t|  Mean duration (s)\t|  Num calls      \t|  Total time (s) \t|  Percentage %   \t|\n",
      "--------------------------------------------------------------------------------------------------------------------------------------------------------------------------------------------------------------------------------------------------------------------------\n",
      "|  Total                                                                                                                                                          \t|  -              \t|  276261         \t|  49.281         \t|  100 %          \t|\n",
      "--------------------------------------------------------------------------------------------------------------------------------------------------------------------------------------------------------------------------------------------------------------------------\n",
      "|  run_training_epoch                                                                                                                                             \t|  12.226         \t|  4              \t|  48.902         \t|  99.232         \t|\n",
      "|  run_training_batch                                                                                                                                             \t|  0.0021761      \t|  6000           \t|  13.057         \t|  26.495         \t|\n",
      "|  [LightningModule]LitAutoEncoder.optimizer_step                                                                                                                 \t|  0.0021282      \t|  6000           \t|  12.769         \t|  25.912         \t|\n",
      "|  [_TrainingEpochLoop].train_dataloader_next                                                                                                                     \t|  0.0017571      \t|  6000           \t|  10.542         \t|  21.393         \t|\n",
      "|  [Callback]TQDMProgressBar.on_train_batch_end                                                                                                                   \t|  0.0017445      \t|  6000           \t|  10.467         \t|  21.239         \t|\n",
      "|  [Strategy]SingleDeviceStrategy.backward                                                                                                                        \t|  0.00074177     \t|  6000           \t|  4.4506         \t|  9.0311         \t|\n",
      "|  [Strategy]SingleDeviceStrategy.training_step                                                                                                                   \t|  0.000666       \t|  6000           \t|  3.996          \t|  8.1087         \t|\n",
      "|  [_EvaluationLoop].val_next                                                                                                                                     \t|  0.0019976      \t|  1503           \t|  3.0024         \t|  6.0925         \t|\n",
      "|  [Callback]TQDMProgressBar.on_validation_batch_end                                                                                                              \t|  0.0015207      \t|  1502           \t|  2.2841         \t|  4.6348         \t|\n",
      "|  [Strategy]SingleDeviceStrategy.batch_to_device                                                                                                                 \t|  0.00016435     \t|  7502           \t|  1.2329         \t|  2.5019         \t|\n",
      "|  [Strategy]SingleDeviceStrategy.validation_step                                                                                                                 \t|  0.00073132     \t|  1502           \t|  1.0984         \t|  2.229          \t|\n",
      "|  [LightningModule]LitAutoEncoder.transfer_batch_to_device                                                                                                       \t|  0.00013903     \t|  7502           \t|  1.043          \t|  2.1164         \t|\n",
      "|  [LightningModule]LitAutoEncoder.optimizer_zero_grad                                                                                                            \t|  5.841e-05      \t|  6000           \t|  0.35046        \t|  0.71116        \t|\n",
      "|  [Callback]ModelCheckpoint{'monitor': None, 'mode': 'min', 'every_n_train_steps': 0, 'every_n_epochs': 1, 'train_time_interval': None}.on_train_epoch_end       \t|  0.049277       \t|  4              \t|  0.19711        \t|  0.39997        \t|\n",
      "|  [LightningModule]LitAutoEncoder.configure_gradient_clipping                                                                                                    \t|  1.8825e-05     \t|  6000           \t|  0.11295        \t|  0.2292         \t|\n",
      "|  [Callback]ModelCheckpoint{'monitor': None, 'mode': 'min', 'every_n_train_steps': 0, 'every_n_epochs': 1, 'train_time_interval': None}.on_train_batch_end       \t|  1.8752e-05     \t|  6000           \t|  0.11251        \t|  0.22831        \t|\n",
      "|  [Callback]ModelCheckpoint{'monitor': None, 'mode': 'min', 'every_n_train_steps': 0, 'every_n_epochs': 1, 'train_time_interval': None}.setup                    \t|  0.047963       \t|  1              \t|  0.047963       \t|  0.097326       \t|\n",
      "|  [Callback]ModelSummary.on_train_batch_end                                                                                                                      \t|  2.9959e-06     \t|  6000           \t|  0.017975       \t|  0.036475       \t|\n",
      "|  [Callback]EarlyStopping{'monitor': 'val_loss', 'mode': 'min'}.on_after_backward                                                                                \t|  2.3736e-06     \t|  6000           \t|  0.014242       \t|  0.028899       \t|\n",
      "|  [Callback]EarlyStopping{'monitor': 'val_loss', 'mode': 'min'}.on_before_zero_grad                                                                              \t|  1.921e-06      \t|  6000           \t|  0.011526       \t|  0.023389       \t|\n",
      "|  [Callback]TQDMProgressBar.on_validation_batch_start                                                                                                            \t|  7.484e-06      \t|  1502           \t|  0.011241       \t|  0.02281        \t|\n",
      "|  [Callback]EarlyStopping{'monitor': 'val_loss', 'mode': 'min'}.on_train_batch_end                                                                               \t|  1.7621e-06     \t|  6000           \t|  0.010573       \t|  0.021454       \t|\n",
      "|  [Callback]EarlyStopping{'monitor': 'val_loss', 'mode': 'min'}.on_train_batch_start                                                                             \t|  1.611e-06      \t|  6000           \t|  0.0096663      \t|  0.019615       \t|\n",
      "|  [Callback]TQDMProgressBar.on_validation_end                                                                                                                    \t|  0.0018975      \t|  5              \t|  0.0094877      \t|  0.019252       \t|\n",
      "|  [LightningModule]LitAutoEncoder.on_before_batch_transfer                                                                                                       \t|  1.2526e-06     \t|  7502           \t|  0.0093973      \t|  0.019069       \t|\n",
      "|  [LightningModule]LitAutoEncoder.on_after_batch_transfer                                                                                                        \t|  1.0988e-06     \t|  7502           \t|  0.0082433      \t|  0.016727       \t|\n",
      "|  [Callback]EarlyStopping{'monitor': 'val_loss', 'mode': 'min'}.on_before_backward                                                                               \t|  1.2234e-06     \t|  6000           \t|  0.0073404      \t|  0.014895       \t|\n",
      "|  [Callback]TQDMProgressBar.on_validation_start                                                                                                                  \t|  0.001431       \t|  5              \t|  0.007155       \t|  0.014519       \t|\n",
      "|  [Callback]EarlyStopping{'monitor': 'val_loss', 'mode': 'min'}.on_before_optimizer_step                                                                         \t|  1.0531e-06     \t|  6000           \t|  0.0063183      \t|  0.012821       \t|\n",
      "|  [LightningModule]LitAutoEncoder.on_train_batch_end                                                                                                             \t|  9.2887e-07     \t|  6000           \t|  0.0055732      \t|  0.011309       \t|\n",
      "|  [Callback]ModelSummary.on_validation_batch_end                                                                                                                 \t|  3.5158e-06     \t|  1502           \t|  0.0052807      \t|  0.010716       \t|\n",
      "|  [LightningModule]LitAutoEncoder.on_before_zero_grad                                                                                                            \t|  8.7666e-07     \t|  6000           \t|  0.00526        \t|  0.010674       \t|\n",
      "|  [Callback]TQDMProgressBar.on_after_backward                                                                                                                    \t|  8.4706e-07     \t|  6000           \t|  0.0050824      \t|  0.010313       \t|\n",
      "|  [LightningModule]LitAutoEncoder.on_after_backward                                                                                                              \t|  8.3116e-07     \t|  6000           \t|  0.0049869      \t|  0.010119       \t|\n",
      "|  [LightningModule]LitAutoEncoder.on_train_batch_start                                                                                                           \t|  8.0029e-07     \t|  6000           \t|  0.0048017      \t|  0.0097437      \t|\n",
      "|  [Callback]TQDMProgressBar.on_before_zero_grad                                                                                                                  \t|  7.9407e-07     \t|  6000           \t|  0.0047644      \t|  0.0096679      \t|\n",
      "|  [Callback]TQDMProgressBar.on_train_batch_start                                                                                                                 \t|  7.8838e-07     \t|  6000           \t|  0.0047303      \t|  0.0095987      \t|\n",
      "|  [Callback]ModelCheckpoint{'monitor': None, 'mode': 'min', 'every_n_train_steps': 0, 'every_n_epochs': 1, 'train_time_interval': None}.on_after_backward        \t|  7.6545e-07     \t|  6000           \t|  0.0045927      \t|  0.0093195      \t|\n",
      "|  [Callback]TQDMProgressBar.on_train_epoch_start                                                                                                                 \t|  0.0011146      \t|  4              \t|  0.0044583      \t|  0.0090468      \t|\n",
      "|  [Callback]ModelSummary.on_train_batch_start                                                                                                                    \t|  7.3146e-07     \t|  6000           \t|  0.0043888      \t|  0.0089057      \t|\n",
      "|  [Callback]ModelCheckpoint{'monitor': None, 'mode': 'min', 'every_n_train_steps': 0, 'every_n_epochs': 1, 'train_time_interval': None}.on_before_zero_grad      \t|  7.1514e-07     \t|  6000           \t|  0.0042908      \t|  0.0087069      \t|\n",
      "|  [Callback]ModelCheckpoint{'monitor': None, 'mode': 'min', 'every_n_train_steps': 0, 'every_n_epochs': 1, 'train_time_interval': None}.on_train_batch_start     \t|  6.8887e-07     \t|  6000           \t|  0.0041332      \t|  0.0083871      \t|\n",
      "|  [Callback]ModelSummary.on_before_zero_grad                                                                                                                     \t|  6.8264e-07     \t|  6000           \t|  0.0040958      \t|  0.0083113      \t|\n",
      "|  [Callback]ModelSummary.on_after_backward                                                                                                                       \t|  6.8025e-07     \t|  6000           \t|  0.0040815      \t|  0.0082822      \t|\n",
      "|  [Callback]TQDMProgressBar.on_before_backward                                                                                                                   \t|  6.6499e-07     \t|  6000           \t|  0.0039899      \t|  0.0080964      \t|\n",
      "|  [Strategy]SingleDeviceStrategy.on_train_batch_start                                                                                                            \t|  6.4688e-07     \t|  6000           \t|  0.0038813      \t|  0.0078759      \t|\n",
      "|  [LightningModule]LitAutoEncoder.on_before_backward                                                                                                             \t|  6.4587e-07     \t|  6000           \t|  0.0038752      \t|  0.0078636      \t|\n",
      "|  [Callback]EarlyStopping{'monitor': 'val_loss', 'mode': 'min'}.on_train_epoch_end                                                                               \t|  0.00096255     \t|  4              \t|  0.0038502      \t|  0.0078128      \t|\n",
      "|  [Callback]TQDMProgressBar.on_before_optimizer_step                                                                                                             \t|  6.226e-07      \t|  6000           \t|  0.0037356      \t|  0.0075803      \t|\n",
      "|  [LightningModule]LitAutoEncoder.on_before_optimizer_step                                                                                                       \t|  6.0782e-07     \t|  6000           \t|  0.0036469      \t|  0.0074003      \t|\n",
      "|  [Callback]ModelCheckpoint{'monitor': None, 'mode': 'min', 'every_n_train_steps': 0, 'every_n_epochs': 1, 'train_time_interval': None}.on_before_backward       \t|  5.9963e-07     \t|  6000           \t|  0.0035978      \t|  0.0073007      \t|\n",
      "|  [Callback]ModelSummary.on_before_backward                                                                                                                      \t|  5.9477e-07     \t|  6000           \t|  0.0035686      \t|  0.0072415      \t|\n",
      "|  [Callback]ModelCheckpoint{'monitor': None, 'mode': 'min', 'every_n_train_steps': 0, 'every_n_epochs': 1, 'train_time_interval': None}.on_before_optimizer_step \t|  5.8075e-07     \t|  6000           \t|  0.0034845      \t|  0.0070707      \t|\n",
      "|  [Callback]ModelSummary.on_before_optimizer_step                                                                                                                \t|  5.6878e-07     \t|  6000           \t|  0.0034127      \t|  0.0069251      \t|\n",
      "|  [Callback]EarlyStopping{'monitor': 'val_loss', 'mode': 'min'}.on_validation_batch_end                                                                          \t|  2.1533e-06     \t|  1502           \t|  0.0032343      \t|  0.006563       \t|\n",
      "|  [Callback]EarlyStopping{'monitor': 'val_loss', 'mode': 'min'}.on_validation_batch_start                                                                        \t|  1.7768e-06     \t|  1502           \t|  0.0026688      \t|  0.0054155      \t|\n",
      "|  [Callback]TQDMProgressBar.on_train_epoch_end                                                                                                                   \t|  0.00047018     \t|  4              \t|  0.0018807      \t|  0.0038164      \t|\n",
      "|  [LightningModule]LitAutoEncoder.on_validation_batch_start                                                                                                      \t|  1.057e-06      \t|  1502           \t|  0.0015875      \t|  0.0032214      \t|\n",
      "|  [Callback]ModelCheckpoint{'monitor': None, 'mode': 'min', 'every_n_train_steps': 0, 'every_n_epochs': 1, 'train_time_interval': None}.on_validation_batch_end  \t|  9.6496e-07     \t|  1502           \t|  0.0014494      \t|  0.0029411      \t|\n",
      "|  [LightningModule]LitAutoEncoder.on_validation_batch_end                                                                                                        \t|  9.6319e-07     \t|  1502           \t|  0.0014467      \t|  0.0029357      \t|\n",
      "|  [Callback]TQDMProgressBar.on_sanity_check_start                                                                                                                \t|  0.0013029      \t|  1              \t|  0.0013029      \t|  0.0026439      \t|\n",
      "|  [Callback]ModelSummary.on_validation_batch_start                                                                                                               \t|  8.2548e-07     \t|  1502           \t|  0.0012399      \t|  0.0025159      \t|\n",
      "|  [Callback]TQDMProgressBar.on_train_start                                                                                                                       \t|  0.0011223      \t|  1              \t|  0.0011223      \t|  0.0022774      \t|\n",
      "|  [Callback]ModelCheckpoint{'monitor': None, 'mode': 'min', 'every_n_train_steps': 0, 'every_n_epochs': 1, 'train_time_interval': None}.on_validation_batch_start\t|  6.4522e-07     \t|  1502           \t|  0.00096912     \t|  0.0019665      \t|\n",
      "|  [Callback]ModelSummary.on_fit_start                                                                                                                            \t|  0.00078816     \t|  1              \t|  0.00078816     \t|  0.0015993      \t|\n",
      "|  [Callback]TQDMProgressBar.on_train_end                                                                                                                         \t|  0.00051175     \t|  1              \t|  0.00051175     \t|  0.0010384      \t|\n",
      "|  [LightningModule]LitAutoEncoder.on_validation_model_train                                                                                                      \t|  6.0045e-05     \t|  5              \t|  0.00030023     \t|  0.00060922     \t|\n",
      "|  [LightningModule]LitAutoEncoder.on_validation_model_eval                                                                                                       \t|  4.5575e-05     \t|  5              \t|  0.00022787     \t|  0.0004624      \t|\n",
      "|  [Callback]ModelCheckpoint{'monitor': None, 'mode': 'min', 'every_n_train_steps': 0, 'every_n_epochs': 1, 'train_time_interval': None}.on_validation_end        \t|  2.587e-05      \t|  5              \t|  0.00012935     \t|  0.00026247     \t|\n",
      "|  [LightningModule]LitAutoEncoder.configure_optimizers                                                                                                           \t|  8.9646e-05     \t|  1              \t|  8.9646e-05     \t|  0.00018191     \t|\n",
      "|  [Callback]ModelSummary.on_validation_end                                                                                                                       \t|  3.5234e-06     \t|  5              \t|  1.7617e-05     \t|  3.5748e-05     \t|\n",
      "|  [Callback]EarlyStopping{'monitor': 'val_loss', 'mode': 'min'}.on_validation_epoch_end                                                                          \t|  2.9814e-06     \t|  5              \t|  1.4907e-05     \t|  3.0249e-05     \t|\n",
      "|  [Callback]ModelSummary.on_validation_start                                                                                                                     \t|  2.741e-06      \t|  5              \t|  1.3705e-05     \t|  2.781e-05      \t|\n",
      "|  [Callback]ModelSummary.on_train_epoch_start                                                                                                                    \t|  3.083e-06      \t|  4              \t|  1.2332e-05     \t|  2.5024e-05     \t|\n",
      "|  [Callback]EarlyStopping{'monitor': 'val_loss', 'mode': 'min'}.on_validation_end                                                                                \t|  2.3412e-06     \t|  5              \t|  1.1706e-05     \t|  2.3754e-05     \t|\n",
      "|  [Callback]ModelSummary.on_train_epoch_end                                                                                                                      \t|  2.37e-06       \t|  4              \t|  9.48e-06       \t|  1.9237e-05     \t|\n",
      "|  [Callback]EarlyStopping{'monitor': 'val_loss', 'mode': 'min'}.on_validation_start                                                                              \t|  1.703e-06      \t|  5              \t|  8.515e-06      \t|  1.7279e-05     \t|\n",
      "|  [Callback]TQDMProgressBar.on_sanity_check_end                                                                                                                  \t|  7.847e-06      \t|  1              \t|  7.847e-06      \t|  1.5923e-05     \t|\n",
      "|  [Callback]EarlyStopping{'monitor': 'val_loss', 'mode': 'min'}.on_train_epoch_start                                                                             \t|  1.8788e-06     \t|  4              \t|  7.515e-06      \t|  1.5249e-05     \t|\n",
      "|  [Callback]EarlyStopping{'monitor': 'val_loss', 'mode': 'min'}.on_save_checkpoint                                                                               \t|  1.635e-06      \t|  4              \t|  6.54e-06       \t|  1.3271e-05     \t|\n",
      "|  [Callback]EarlyStopping{'monitor': 'val_loss', 'mode': 'min'}.on_validation_epoch_start                                                                        \t|  9.5e-07        \t|  5              \t|  4.75e-06       \t|  9.6387e-06     \t|\n",
      "|  [Callback]EarlyStopping{'monitor': 'val_loss', 'mode': 'min'}.on_sanity_check_end                                                                              \t|  4.528e-06      \t|  1              \t|  4.528e-06      \t|  9.1882e-06     \t|\n",
      "|  [LightningModule]LitAutoEncoder.on_validation_epoch_end                                                                                                        \t|  8.642e-07      \t|  5              \t|  4.321e-06      \t|  8.7682e-06     \t|\n",
      "|  [Callback]ModelSummary.on_validation_epoch_end                                                                                                                 \t|  8.35e-07       \t|  5              \t|  4.175e-06      \t|  8.4719e-06     \t|\n",
      "|  [LightningModule]LitAutoEncoder.on_validation_start                                                                                                            \t|  8.258e-07      \t|  5              \t|  4.129e-06      \t|  8.3786e-06     \t|\n",
      "|  [LightningModule]LitAutoEncoder.on_validation_end                                                                                                              \t|  8.012e-07      \t|  5              \t|  4.006e-06      \t|  8.129e-06      \t|\n",
      "|  [Callback]EarlyStopping{'monitor': 'val_loss', 'mode': 'min'}.setup                                                                                            \t|  3.986e-06      \t|  1              \t|  3.986e-06      \t|  8.0884e-06     \t|\n",
      "|  [Callback]TQDMProgressBar.on_validation_epoch_end                                                                                                              \t|  7.49e-07       \t|  5              \t|  3.745e-06      \t|  7.5993e-06     \t|\n",
      "|  [LightningModule]LitAutoEncoder.configure_callbacks                                                                                                            \t|  3.585e-06      \t|  1              \t|  3.585e-06      \t|  7.2747e-06     \t|\n",
      "|  [Callback]ModelCheckpoint{'monitor': None, 'mode': 'min', 'every_n_train_steps': 0, 'every_n_epochs': 1, 'train_time_interval': None}.on_validation_start      \t|  7.148e-07      \t|  5              \t|  3.574e-06      \t|  7.2524e-06     \t|\n",
      "|  [Callback]TQDMProgressBar.on_save_checkpoint                                                                                                                   \t|  8.5575e-07     \t|  4              \t|  3.423e-06      \t|  6.9459e-06     \t|\n",
      "|  [Strategy]SingleDeviceStrategy.on_validation_end                                                                                                               \t|  6.78e-07       \t|  5              \t|  3.39e-06       \t|  6.879e-06      \t|\n",
      "|  [Callback]ModelSummary.on_sanity_check_start                                                                                                                   \t|  3.287e-06      \t|  1              \t|  3.287e-06      \t|  6.67e-06       \t|\n",
      "|  [LightningModule]LitAutoEncoder.on_train_epoch_start                                                                                                           \t|  7.975e-07      \t|  4              \t|  3.19e-06       \t|  6.4731e-06     \t|\n",
      "|  [Callback]EarlyStopping{'monitor': 'val_loss', 'mode': 'min'}.on_sanity_check_start                                                                            \t|  3.172e-06      \t|  1              \t|  3.172e-06      \t|  6.4366e-06     \t|\n",
      "|  [Strategy]SingleDeviceStrategy.on_validation_start                                                                                                             \t|  6.182e-07      \t|  5              \t|  3.091e-06      \t|  6.2723e-06     \t|\n",
      "|  [LightningModule]LitAutoEncoder.on_train_epoch_end                                                                                                             \t|  7.645e-07      \t|  4              \t|  3.058e-06      \t|  6.2053e-06     \t|\n",
      "|  [Callback]ModelCheckpoint{'monitor': None, 'mode': 'min', 'every_n_train_steps': 0, 'every_n_epochs': 1, 'train_time_interval': None}.on_save_checkpoint       \t|  7.23e-07       \t|  4              \t|  2.892e-06      \t|  5.8684e-06     \t|\n",
      "|  [Callback]ModelCheckpoint{'monitor': None, 'mode': 'min', 'every_n_train_steps': 0, 'every_n_epochs': 1, 'train_time_interval': None}.on_validation_epoch_start\t|  5.736e-07      \t|  5              \t|  2.868e-06      \t|  5.8197e-06     \t|\n",
      "|  [Callback]TQDMProgressBar.on_validation_epoch_start                                                                                                            \t|  5.582e-07      \t|  5              \t|  2.791e-06      \t|  5.6635e-06     \t|\n",
      "|  [Callback]TQDMProgressBar.setup                                                                                                                                \t|  2.736e-06      \t|  1              \t|  2.736e-06      \t|  5.5519e-06     \t|\n",
      "|  [LightningModule]LitAutoEncoder.on_validation_epoch_start                                                                                                      \t|  5.344e-07      \t|  5              \t|  2.672e-06      \t|  5.422e-06      \t|\n",
      "|  [Callback]ModelCheckpoint{'monitor': None, 'mode': 'min', 'every_n_train_steps': 0, 'every_n_epochs': 1, 'train_time_interval': None}.on_validation_epoch_end  \t|  5.24e-07       \t|  5              \t|  2.62e-06       \t|  5.3165e-06     \t|\n",
      "|  [LightningModule]LitAutoEncoder.on_save_checkpoint                                                                                                             \t|  6.45e-07       \t|  4              \t|  2.58e-06       \t|  5.2353e-06     \t|\n",
      "|  [Callback]ModelCheckpoint{'monitor': None, 'mode': 'min', 'every_n_train_steps': 0, 'every_n_epochs': 1, 'train_time_interval': None}.on_train_epoch_start     \t|  6.44e-07       \t|  4              \t|  2.576e-06      \t|  5.2272e-06     \t|\n",
      "|  [Callback]ModelSummary.on_sanity_check_end                                                                                                                     \t|  2.525e-06      \t|  1              \t|  2.525e-06      \t|  5.1237e-06     \t|\n",
      "|  [Callback]ModelSummary.on_train_end                                                                                                                            \t|  2.491e-06      \t|  1              \t|  2.491e-06      \t|  5.0547e-06     \t|\n",
      "|  [Callback]ModelCheckpoint{'monitor': None, 'mode': 'min', 'every_n_train_steps': 0, 'every_n_epochs': 1, 'train_time_interval': None}.on_fit_start             \t|  2.454e-06      \t|  1              \t|  2.454e-06      \t|  4.9797e-06     \t|\n",
      "|  [Callback]ModelSummary.on_validation_epoch_start                                                                                                               \t|  4.742e-07      \t|  5              \t|  2.371e-06      \t|  4.8112e-06     \t|\n",
      "|  [Callback]ModelCheckpoint{'monitor': None, 'mode': 'min', 'every_n_train_steps': 0, 'every_n_epochs': 1, 'train_time_interval': None}.on_sanity_check_end      \t|  2.36e-06       \t|  1              \t|  2.36e-06       \t|  4.7889e-06     \t|\n",
      "|  [Callback]ModelSummary.on_train_start                                                                                                                          \t|  2.269e-06      \t|  1              \t|  2.269e-06      \t|  4.6043e-06     \t|\n",
      "|  [Callback]EarlyStopping{'monitor': 'val_loss', 'mode': 'min'}.on_train_end                                                                                     \t|  2.22e-06       \t|  1              \t|  2.22e-06       \t|  4.5048e-06     \t|\n",
      "|  [Callback]EarlyStopping{'monitor': 'val_loss', 'mode': 'min'}.on_train_start                                                                                   \t|  2.129e-06      \t|  1              \t|  2.129e-06      \t|  4.3202e-06     \t|\n",
      "|  [Callback]ModelSummary.on_save_checkpoint                                                                                                                      \t|  5.2375e-07     \t|  4              \t|  2.095e-06      \t|  4.2512e-06     \t|\n",
      "|  [Callback]EarlyStopping{'monitor': 'val_loss', 'mode': 'min'}.on_fit_end                                                                                       \t|  2.087e-06      \t|  1              \t|  2.087e-06      \t|  4.2349e-06     \t|\n",
      "|  [LightningModule]LitAutoEncoder.setup                                                                                                                          \t|  1.955e-06      \t|  1              \t|  1.955e-06      \t|  3.9671e-06     \t|\n",
      "|  [LightningModule]LitAutoEncoder.prepare_data                                                                                                                   \t|  1.643e-06      \t|  1              \t|  1.643e-06      \t|  3.334e-06      \t|\n",
      "|  [Callback]EarlyStopping{'monitor': 'val_loss', 'mode': 'min'}.on_fit_start                                                                                     \t|  1.551e-06      \t|  1              \t|  1.551e-06      \t|  3.1473e-06     \t|\n",
      "|  [Callback]EarlyStopping{'monitor': 'val_loss', 'mode': 'min'}.teardown                                                                                         \t|  1.413e-06      \t|  1              \t|  1.413e-06      \t|  2.8673e-06     \t|\n",
      "|  [LightningModule]LitAutoEncoder.configure_sharded_model                                                                                                        \t|  1.353e-06      \t|  1              \t|  1.353e-06      \t|  2.7455e-06     \t|\n",
      "|  [Callback]ModelSummary.setup                                                                                                                                   \t|  1.293e-06      \t|  1              \t|  1.293e-06      \t|  2.6238e-06     \t|\n",
      "|  [Callback]ModelCheckpoint{'monitor': None, 'mode': 'min', 'every_n_train_steps': 0, 'every_n_epochs': 1, 'train_time_interval': None}.on_train_start           \t|  1.278e-06      \t|  1              \t|  1.278e-06      \t|  2.5933e-06     \t|\n",
      "|  [LightningModule]LitAutoEncoder.on_fit_start                                                                                                                   \t|  1.15e-06       \t|  1              \t|  1.15e-06       \t|  2.3336e-06     \t|\n",
      "|  [Callback]TQDMProgressBar.teardown                                                                                                                             \t|  1.143e-06      \t|  1              \t|  1.143e-06      \t|  2.3194e-06     \t|\n",
      "|  [Callback]ModelSummary.on_fit_end                                                                                                                              \t|  8.33e-07       \t|  1              \t|  8.33e-07       \t|  1.6903e-06     \t|\n",
      "|  [LightningModule]LitAutoEncoder.teardown                                                                                                                       \t|  8.3e-07        \t|  1              \t|  8.3e-07        \t|  1.6842e-06     \t|\n",
      "|  [Callback]TQDMProgressBar.on_fit_end                                                                                                                           \t|  8.26e-07       \t|  1              \t|  8.26e-07       \t|  1.6761e-06     \t|\n",
      "|  [Strategy]SingleDeviceStrategy.on_train_start                                                                                                                  \t|  8.16e-07       \t|  1              \t|  8.16e-07       \t|  1.6558e-06     \t|\n",
      "|  [Callback]ModelSummary.teardown                                                                                                                                \t|  7.85e-07       \t|  1              \t|  7.85e-07       \t|  1.5929e-06     \t|\n",
      "|  [Callback]TQDMProgressBar.on_fit_start                                                                                                                         \t|  7.61e-07       \t|  1              \t|  7.61e-07       \t|  1.5442e-06     \t|\n",
      "|  [LightningModule]LitAutoEncoder.on_fit_end                                                                                                                     \t|  7.47e-07       \t|  1              \t|  7.47e-07       \t|  1.5158e-06     \t|\n",
      "|  [LightningModule]LitAutoEncoder.on_train_start                                                                                                                 \t|  7.41e-07       \t|  1              \t|  7.41e-07       \t|  1.5036e-06     \t|\n",
      "|  [Callback]ModelCheckpoint{'monitor': None, 'mode': 'min', 'every_n_train_steps': 0, 'every_n_epochs': 1, 'train_time_interval': None}.on_train_end             \t|  6.87e-07       \t|  1              \t|  6.87e-07       \t|  1.3941e-06     \t|\n",
      "|  [Callback]ModelCheckpoint{'monitor': None, 'mode': 'min', 'every_n_train_steps': 0, 'every_n_epochs': 1, 'train_time_interval': None}.on_sanity_check_start    \t|  6.56e-07       \t|  1              \t|  6.56e-07       \t|  1.3312e-06     \t|\n",
      "|  [LightningModule]LitAutoEncoder.on_train_end                                                                                                                   \t|  6.26e-07       \t|  1              \t|  6.26e-07       \t|  1.2703e-06     \t|\n",
      "|  [Callback]ModelCheckpoint{'monitor': None, 'mode': 'min', 'every_n_train_steps': 0, 'every_n_epochs': 1, 'train_time_interval': None}.teardown                 \t|  6.2e-07        \t|  1              \t|  6.2e-07        \t|  1.2581e-06     \t|\n",
      "|  [Callback]ModelCheckpoint{'monitor': None, 'mode': 'min', 'every_n_train_steps': 0, 'every_n_epochs': 1, 'train_time_interval': None}.on_fit_end               \t|  5.05e-07       \t|  1              \t|  5.05e-07       \t|  1.0247e-06     \t|\n",
      "|  [Strategy]SingleDeviceStrategy.on_train_end                                                                                                                    \t|  4.77e-07       \t|  1              \t|  4.77e-07       \t|  9.6793e-07     \t|\n",
      "--------------------------------------------------------------------------------------------------------------------------------------------------------------------------------------------------------------------------------------------------------------------------\n",
      "\n"
     ]
    }
   ],
   "source": [
    "autoencoder = LitAutoEncoder(Encoder(),Decoder())\n",
    "trainer = pl.Trainer(max_epochs=4, callbacks=[EarlyStopping(monitor='val_loss', mode='min')], profiler=\"simple\")\n",
    "trainer.fit(model= autoencoder, train_dataloaders=train_loader, val_dataloaders=val_loader)"
   ]
  },
  {
   "cell_type": "code",
   "execution_count": 51,
   "metadata": {},
   "outputs": [
    {
     "name": "stderr",
     "output_type": "stream",
     "text": [
      "You are using a CUDA device ('NVIDIA GeForce RTX 3060 Laptop GPU') that has Tensor Cores. To properly utilize them, you should set `torch.set_float32_matmul_precision('medium' | 'high')` which will trade-off precision for performance. For more details, read https://pytorch.org/docs/stable/generated/torch.set_float32_matmul_precision.html#torch.set_float32_matmul_precision\n",
      "LOCAL_RANK: 0 - CUDA_VISIBLE_DEVICES: [0]\n",
      "/home/sid98/miniconda3/envs/pytorch-light/lib/python3.11/site-packages/lightning/pytorch/trainer/connectors/data_connector.py:432: PossibleUserWarning: The dataloader, test_dataloader, does not have many workers which may be a bottleneck. Consider increasing the value of the `num_workers` argument` (try 20 which is the number of cpus on this machine) in the `DataLoader` init to improve performance.\n",
      "  rank_zero_warn(\n"
     ]
    },
    {
     "name": "stdout",
     "output_type": "stream",
     "text": [
      "Testing DataLoader 0: 100%|██████████| 313/313 [00:01<00:00, 310.13it/s]\n"
     ]
    },
    {
     "data": {
      "text/html": [
       "<pre style=\"white-space:pre;overflow-x:auto;line-height:normal;font-family:Menlo,'DejaVu Sans Mono',consolas,'Courier New',monospace\">┏━━━━━━━━━━━━━━━━━━━━━━━━━━━┳━━━━━━━━━━━━━━━━━━━━━━━━━━━┓\n",
       "┃<span style=\"font-weight: bold\">   Runningstage.testing    </span>┃<span style=\"font-weight: bold\">                           </span>┃\n",
       "┃<span style=\"font-weight: bold\">          metric           </span>┃<span style=\"font-weight: bold\">       DataLoader 0        </span>┃\n",
       "┡━━━━━━━━━━━━━━━━━━━━━━━━━━━╇━━━━━━━━━━━━━━━━━━━━━━━━━━━┩\n",
       "│<span style=\"color: #008080; text-decoration-color: #008080\">         test_loss         </span>│<span style=\"color: #800080; text-decoration-color: #800080\">    0.03914721682667732    </span>│\n",
       "└───────────────────────────┴───────────────────────────┘\n",
       "</pre>\n"
      ],
      "text/plain": [
       "┏━━━━━━━━━━━━━━━━━━━━━━━━━━━┳━━━━━━━━━━━━━━━━━━━━━━━━━━━┓\n",
       "┃\u001b[1m \u001b[0m\u001b[1m  Runningstage.testing   \u001b[0m\u001b[1m \u001b[0m┃\u001b[1m                           \u001b[0m┃\n",
       "┃\u001b[1m \u001b[0m\u001b[1m         metric          \u001b[0m\u001b[1m \u001b[0m┃\u001b[1m \u001b[0m\u001b[1m      DataLoader 0       \u001b[0m\u001b[1m \u001b[0m┃\n",
       "┡━━━━━━━━━━━━━━━━━━━━━━━━━━━╇━━━━━━━━━━━━━━━━━━━━━━━━━━━┩\n",
       "│\u001b[36m \u001b[0m\u001b[36m        test_loss        \u001b[0m\u001b[36m \u001b[0m│\u001b[35m \u001b[0m\u001b[35m   0.03914721682667732   \u001b[0m\u001b[35m \u001b[0m│\n",
       "└───────────────────────────┴───────────────────────────┘\n"
      ]
     },
     "metadata": {},
     "output_type": "display_data"
    },
    {
     "data": {
      "text/plain": [
       "[{'test_loss': 0.03914721682667732}]"
      ]
     },
     "execution_count": 51,
     "metadata": {},
     "output_type": "execute_result"
    }
   ],
   "source": [
    "trainer.test(model=autoencoder, dataloaders=test_loader)"
   ]
  }
 ],
 "metadata": {
  "kernelspec": {
   "display_name": "pytorch-light",
   "language": "python",
   "name": "python3"
  },
  "language_info": {
   "codemirror_mode": {
    "name": "ipython",
    "version": 3
   },
   "file_extension": ".py",
   "mimetype": "text/x-python",
   "name": "python",
   "nbconvert_exporter": "python",
   "pygments_lexer": "ipython3",
   "version": "3.11.3"
  },
  "orig_nbformat": 4
 },
 "nbformat": 4,
 "nbformat_minor": 2
}
